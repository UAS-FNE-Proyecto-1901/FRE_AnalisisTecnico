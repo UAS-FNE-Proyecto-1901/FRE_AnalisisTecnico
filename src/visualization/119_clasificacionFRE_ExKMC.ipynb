{
  "nbformat": 4,
  "nbformat_minor": 0,
  "metadata": {
    "colab": {
      "name": "119_clasificacionFRE_ExKMC.ipynb",
      "provenance": [],
      "collapsed_sections": []
    },
    "kernelspec": {
      "name": "python3",
      "display_name": "Python 3"
    },
    "language_info": {
      "name": "python"
    }
  },
  "cells": [
    {
      "cell_type": "code",
      "metadata": {
        "colab": {
          "base_uri": "https://localhost:8080/"
        },
        "id": "Zg_TmL66hwSB",
        "outputId": "ad8220e9-af8b-465d-8d8c-0b54dc516c85"
      },
      "source": [
        "!pip install ExKMC\n",
        "!pip install adjustText"
      ],
      "execution_count": 234,
      "outputs": [
        {
          "output_type": "stream",
          "name": "stdout",
          "text": [
            "Requirement already satisfied: ExKMC in /usr/local/lib/python3.7/dist-packages (0.0.3)\n",
            "Requirement already satisfied: adjustText in /usr/local/lib/python3.7/dist-packages (0.7.3)\n",
            "Requirement already satisfied: matplotlib in /usr/local/lib/python3.7/dist-packages (from adjustText) (3.2.2)\n",
            "Requirement already satisfied: numpy in /usr/local/lib/python3.7/dist-packages (from adjustText) (1.19.5)\n",
            "Requirement already satisfied: kiwisolver>=1.0.1 in /usr/local/lib/python3.7/dist-packages (from matplotlib->adjustText) (1.3.2)\n",
            "Requirement already satisfied: cycler>=0.10 in /usr/local/lib/python3.7/dist-packages (from matplotlib->adjustText) (0.10.0)\n",
            "Requirement already satisfied: python-dateutil>=2.1 in /usr/local/lib/python3.7/dist-packages (from matplotlib->adjustText) (2.8.2)\n",
            "Requirement already satisfied: pyparsing!=2.0.4,!=2.1.2,!=2.1.6,>=2.0.1 in /usr/local/lib/python3.7/dist-packages (from matplotlib->adjustText) (2.4.7)\n",
            "Requirement already satisfied: six in /usr/local/lib/python3.7/dist-packages (from cycler>=0.10->matplotlib->adjustText) (1.15.0)\n"
          ]
        }
      ]
    },
    {
      "cell_type": "code",
      "metadata": {
        "id": "fDzqAEgkhyHZ"
      },
      "source": [
        "from ExKMC.Tree import Tree\n",
        "from sklearn.datasets import make_blobs\n",
        "from sklearn.preprocessing import StandardScaler\n",
        "from sklearn.cluster import KMeans\n",
        "from adjustText import adjust_text\n",
        "\n",
        "import matplotlib.pyplot as plt\n",
        "import pandas as pd\n",
        "import numpy as np\n",
        "import tqdm\n",
        "# Create dataset\n",
        "# n = 100\n",
        "# d = 10\n",
        "# k = 3\n",
        "# X, _ = make_blobs(n, d, k, cluster_std=3.0)\n",
        "\n",
        "# # Initialize tree with up to 6 leaves, predicting 3 clusters\n",
        "# tree = Tree(k=k, max_leaves=2*k) \n",
        "\n",
        "# # Construct the tree, and return cluster labels\n",
        "# prediction = tree.fit_predict(X)\n",
        "\n",
        "# # Tree plot saved to filename\n",
        "# tree.plot('filename')"
      ],
      "execution_count": 235,
      "outputs": []
    },
    {
      "cell_type": "code",
      "metadata": {
        "id": "rWNHCQFijCa8"
      },
      "source": [
        "data = pd.read_excel('variablesClasificacionFRE.xlsx', na_values='-')\n",
        "\n",
        "data['Departamento.1'] = data['Departamento.1'].str.title()"
      ],
      "execution_count": 236,
      "outputs": []
    },
    {
      "cell_type": "code",
      "metadata": {
        "colab": {
          "base_uri": "https://localhost:8080/",
          "height": 175
        },
        "id": "cpew1ZYMj-wp",
        "outputId": "5da6c5e3-adce-4213-e045-685408df3f3a"
      },
      "source": [
        "data.head(3)"
      ],
      "execution_count": 237,
      "outputs": [
        {
          "output_type": "execute_result",
          "data": {
            "text/html": [
              "<div>\n",
              "<style scoped>\n",
              "    .dataframe tbody tr th:only-of-type {\n",
              "        vertical-align: middle;\n",
              "    }\n",
              "\n",
              "    .dataframe tbody tr th {\n",
              "        vertical-align: top;\n",
              "    }\n",
              "\n",
              "    .dataframe thead th {\n",
              "        text-align: right;\n",
              "    }\n",
              "</style>\n",
              "<table border=\"1\" class=\"dataframe\">\n",
              "  <thead>\n",
              "    <tr style=\"text-align: right;\">\n",
              "      <th></th>\n",
              "      <th>Departamento</th>\n",
              "      <th>Departamento.1</th>\n",
              "      <th>Presupuesto_2020</th>\n",
              "      <th>Presupuesto_Salud_2020</th>\n",
              "      <th>Prop_productosCD_2021</th>\n",
              "      <th>Cumplimiento_A1_2020-2021-06</th>\n",
              "      <th>Cumplimiento_A2_2020-2021-06</th>\n",
              "      <th>PropPortafolio</th>\n",
              "      <th>No_Inscritos</th>\n",
              "      <th>T_adq_Recet</th>\n",
              "    </tr>\n",
              "  </thead>\n",
              "  <tbody>\n",
              "    <tr>\n",
              "      <th>0</th>\n",
              "      <td>22</td>\n",
              "      <td>Amazonas</td>\n",
              "      <td>195000000000</td>\n",
              "      <td>3.892668e+10</td>\n",
              "      <td>1.00000</td>\n",
              "      <td>0.75</td>\n",
              "      <td>0.833333</td>\n",
              "      <td>0.529412</td>\n",
              "      <td>6.0</td>\n",
              "      <td>15.000000</td>\n",
              "    </tr>\n",
              "    <tr>\n",
              "      <th>1</th>\n",
              "      <td>3</td>\n",
              "      <td>Antioquia</td>\n",
              "      <td>2714000000000</td>\n",
              "      <td>9.783884e+11</td>\n",
              "      <td>0.96165</td>\n",
              "      <td>1.00</td>\n",
              "      <td>1.000000</td>\n",
              "      <td>1.000000</td>\n",
              "      <td>1054.0</td>\n",
              "      <td>0.081818</td>\n",
              "    </tr>\n",
              "    <tr>\n",
              "      <th>2</th>\n",
              "      <td>25</td>\n",
              "      <td>Arauca</td>\n",
              "      <td>257000000000</td>\n",
              "      <td>5.174802e+10</td>\n",
              "      <td>1.00000</td>\n",
              "      <td>1.00</td>\n",
              "      <td>0.888889</td>\n",
              "      <td>0.882353</td>\n",
              "      <td>19.0</td>\n",
              "      <td>1.800000</td>\n",
              "    </tr>\n",
              "  </tbody>\n",
              "</table>\n",
              "</div>"
            ],
            "text/plain": [
              "   Departamento Departamento.1  ...  No_Inscritos  T_adq_Recet\n",
              "0            22       Amazonas  ...           6.0    15.000000\n",
              "1             3      Antioquia  ...        1054.0     0.081818\n",
              "2            25         Arauca  ...          19.0     1.800000\n",
              "\n",
              "[3 rows x 10 columns]"
            ]
          },
          "metadata": {},
          "execution_count": 237
        }
      ]
    },
    {
      "cell_type": "code",
      "metadata": {
        "colab": {
          "base_uri": "https://localhost:8080/",
          "height": 206
        },
        "id": "JzMvyYM2l40s",
        "outputId": "74114194-8dd3-43c9-aeff-a7787ab7093b"
      },
      "source": [
        "columns = ['Presupuesto_2020', 'Presupuesto_Salud_2020', \n",
        "             'No_Inscritos', 'Prop_productosCD_2021', \n",
        "             'Cumplimiento_A1_2020-2021-06', 'Cumplimiento_A2_2020-2021-06', \n",
        "             'PropPortafolio', 'T_adq_Recet', 'Departamento.1']\n",
        "\n",
        "X = data.loc[:, columns]\n",
        "X.set_index('Departamento.1', inplace=True)\n",
        "X.dropna(inplace=True)\n",
        "X.head(3)"
      ],
      "execution_count": 238,
      "outputs": [
        {
          "output_type": "execute_result",
          "data": {
            "text/html": [
              "<div>\n",
              "<style scoped>\n",
              "    .dataframe tbody tr th:only-of-type {\n",
              "        vertical-align: middle;\n",
              "    }\n",
              "\n",
              "    .dataframe tbody tr th {\n",
              "        vertical-align: top;\n",
              "    }\n",
              "\n",
              "    .dataframe thead th {\n",
              "        text-align: right;\n",
              "    }\n",
              "</style>\n",
              "<table border=\"1\" class=\"dataframe\">\n",
              "  <thead>\n",
              "    <tr style=\"text-align: right;\">\n",
              "      <th></th>\n",
              "      <th>Presupuesto_2020</th>\n",
              "      <th>Presupuesto_Salud_2020</th>\n",
              "      <th>No_Inscritos</th>\n",
              "      <th>Prop_productosCD_2021</th>\n",
              "      <th>Cumplimiento_A1_2020-2021-06</th>\n",
              "      <th>Cumplimiento_A2_2020-2021-06</th>\n",
              "      <th>PropPortafolio</th>\n",
              "      <th>T_adq_Recet</th>\n",
              "    </tr>\n",
              "    <tr>\n",
              "      <th>Departamento.1</th>\n",
              "      <th></th>\n",
              "      <th></th>\n",
              "      <th></th>\n",
              "      <th></th>\n",
              "      <th></th>\n",
              "      <th></th>\n",
              "      <th></th>\n",
              "      <th></th>\n",
              "    </tr>\n",
              "  </thead>\n",
              "  <tbody>\n",
              "    <tr>\n",
              "      <th>Amazonas</th>\n",
              "      <td>195000000000</td>\n",
              "      <td>3.892668e+10</td>\n",
              "      <td>6.0</td>\n",
              "      <td>1.00000</td>\n",
              "      <td>0.75</td>\n",
              "      <td>0.833333</td>\n",
              "      <td>0.529412</td>\n",
              "      <td>15.000000</td>\n",
              "    </tr>\n",
              "    <tr>\n",
              "      <th>Antioquia</th>\n",
              "      <td>2714000000000</td>\n",
              "      <td>9.783884e+11</td>\n",
              "      <td>1054.0</td>\n",
              "      <td>0.96165</td>\n",
              "      <td>1.00</td>\n",
              "      <td>1.000000</td>\n",
              "      <td>1.000000</td>\n",
              "      <td>0.081818</td>\n",
              "    </tr>\n",
              "    <tr>\n",
              "      <th>Arauca</th>\n",
              "      <td>257000000000</td>\n",
              "      <td>5.174802e+10</td>\n",
              "      <td>19.0</td>\n",
              "      <td>1.00000</td>\n",
              "      <td>1.00</td>\n",
              "      <td>0.888889</td>\n",
              "      <td>0.882353</td>\n",
              "      <td>1.800000</td>\n",
              "    </tr>\n",
              "  </tbody>\n",
              "</table>\n",
              "</div>"
            ],
            "text/plain": [
              "                Presupuesto_2020  ...  T_adq_Recet\n",
              "Departamento.1                    ...             \n",
              "Amazonas            195000000000  ...    15.000000\n",
              "Antioquia          2714000000000  ...     0.081818\n",
              "Arauca              257000000000  ...     1.800000\n",
              "\n",
              "[3 rows x 8 columns]"
            ]
          },
          "metadata": {},
          "execution_count": 238
        }
      ]
    },
    {
      "cell_type": "code",
      "metadata": {
        "id": "vwITfN_XjCYx"
      },
      "source": [
        "scaler = StandardScaler()\n",
        "scaler.fit(X)\n",
        "X_train = scaler.transform(X)"
      ],
      "execution_count": 239,
      "outputs": []
    },
    {
      "cell_type": "code",
      "metadata": {
        "colab": {
          "base_uri": "https://localhost:8080/"
        },
        "id": "xh5he3E-jCWk",
        "outputId": "a12a2797-f441-4510-b108-ca077865957a"
      },
      "source": [
        "np.shape(X_train)"
      ],
      "execution_count": 240,
      "outputs": [
        {
          "output_type": "execute_result",
          "data": {
            "text/plain": [
              "(31, 8)"
            ]
          },
          "metadata": {},
          "execution_count": 240
        }
      ]
    },
    {
      "cell_type": "code",
      "metadata": {
        "colab": {
          "base_uri": "https://localhost:8080/"
        },
        "id": "aO4VoEoztkJO",
        "outputId": "708733e8-5340-44a7-fbaf-3a0c8b824639"
      },
      "source": [
        "## Evaluación de número k\n",
        "k_list = np.arange(1, 31)\n",
        "leaves_list = np.arange(1, 50)\n",
        "\n",
        "lv_list1 = list()\n",
        "lv_list2 = list()\n",
        "\n",
        "for lv in tqdm.tqdm(leaves_list):\n",
        "  score_list1 = list()\n",
        "  score_list2 = list()\n",
        "  \n",
        "  for i in k_list:\n",
        "    tree = Tree(k = i, max_leaves = 2 * i)\n",
        "    prediction = tree.fit_predict(X_train)\n",
        "    score_list1.append(tree.score(X_train))\n",
        "    score_list2.append(tree.surrogate_score(X_train))\n",
        "  \n",
        "  lv_list1.append(score_list1)\n",
        "  lv_list2.append(score_list2)"
      ],
      "execution_count": 241,
      "outputs": [
        {
          "output_type": "stream",
          "name": "stderr",
          "text": [
            "100%|██████████| 49/49 [00:23<00:00,  2.07it/s]\n"
          ]
        }
      ]
    },
    {
      "cell_type": "code",
      "metadata": {
        "colab": {
          "base_uri": "https://localhost:8080/",
          "height": 281
        },
        "id": "IYmY-2rBuPJe",
        "outputId": "b7cc116d-84cc-44b0-95cd-b38a48bc5f85"
      },
      "source": [
        "fig, ax = plt.subplots(1,2, figsize = (12, 4))\n",
        "\n",
        "for j, _ in enumerate(leaves_list):\n",
        "  if j % 5 == 0:\n",
        "    ax[0].plot(k_list, lv_list1[j], label = j)\n",
        "for j, _ in enumerate(leaves_list):\n",
        "  if j % 5 == 0:\n",
        "    ax[1].plot(k_list, lv_list2[j], label = j)\n",
        "\n",
        "ax[1].legend(ncol = 4)"
      ],
      "execution_count": 242,
      "outputs": [
        {
          "output_type": "execute_result",
          "data": {
            "text/plain": [
              "<matplotlib.legend.Legend at 0x7f7e5e855050>"
            ]
          },
          "metadata": {},
          "execution_count": 242
        },
        {
          "output_type": "display_data",
          "data": {
            "image/png": "[encoded data removed]",
            "text/plain": [
              "<Figure size 864x288 with 2 Axes>"
            ]
          },
          "metadata": {
            "needs_background": "light"
          }
        }
      ]
    },
    {
      "cell_type": "code",
      "metadata": {
        "id": "fO2PtRhVjCUX"
      },
      "source": [
        "k = 3\n",
        "tree = Tree(k=k, max_leaves=2*k) \n",
        "# Construct the tree, and return cluster labels\n",
        "prediction = tree.fit_predict(X_train)"
      ],
      "execution_count": 243,
      "outputs": []
    },
    {
      "cell_type": "code",
      "metadata": {
        "colab": {
          "base_uri": "https://localhost:8080/"
        },
        "id": "vGUUJowVoa6N",
        "outputId": "588f7959-0d6f-4408-9876-059cbe0aa790"
      },
      "source": [
        "prediction"
      ],
      "execution_count": 244,
      "outputs": [
        {
          "output_type": "execute_result",
          "data": {
            "text/plain": [
              "array([1., 2., 1., 1., 0., 1., 1., 1., 1., 1., 1., 1., 0., 0., 1., 1., 1.,\n",
              "       1., 1., 1., 1., 1., 1., 1., 1., 1., 1., 1., 2., 1., 1.])"
            ]
          },
          "metadata": {},
          "execution_count": 244
        }
      ]
    },
    {
      "cell_type": "code",
      "metadata": {
        "id": "Hqu0Sqg3sn-q"
      },
      "source": [
        "tree.plot('filename', feature_names=columns)"
      ],
      "execution_count": 245,
      "outputs": []
    },
    {
      "cell_type": "code",
      "metadata": {
        "colab": {
          "base_uri": "https://localhost:8080/"
        },
        "id": "3p8vt_cWsm_1",
        "outputId": "17d86712-a5f7-480e-ed96-e24508037a0e"
      },
      "source": [
        "tree.score(X_train)"
      ],
      "execution_count": 246,
      "outputs": [
        {
          "output_type": "execute_result",
          "data": {
            "text/plain": [
              "151.60384474637186"
            ]
          },
          "metadata": {},
          "execution_count": 246
        }
      ]
    },
    {
      "cell_type": "code",
      "metadata": {
        "colab": {
          "base_uri": "https://localhost:8080/"
        },
        "id": "BTxKEJvVtlcw",
        "outputId": "1cdcd08f-4274-4ebd-e39c-b7ae20412bf1"
      },
      "source": [
        "k = 8\n",
        "tree = Tree(k=k, max_leaves=2*k) \n",
        "# Construct the tree, and return cluster labels\n",
        "prediction = tree.fit_predict(X_train)\n",
        "prediction"
      ],
      "execution_count": 247,
      "outputs": [
        {
          "output_type": "execute_result",
          "data": {
            "text/plain": [
              "array([7., 3., 2., 4., 5., 2., 4., 2., 1., 2., 4., 2., 5., 7., 2., 7., 2.,\n",
              "       1., 7., 0., 2., 0., 2., 4., 6., 4., 0., 4., 4., 6., 6.])"
            ]
          },
          "metadata": {},
          "execution_count": 247
        }
      ]
    },
    {
      "cell_type": "code",
      "metadata": {
        "id": "4RnvUtjMyGGf"
      },
      "source": [
        "tree.plot('graficos_k8', feature_names=columns)"
      ],
      "execution_count": 248,
      "outputs": []
    },
    {
      "cell_type": "code",
      "metadata": {
        "colab": {
          "base_uri": "https://localhost:8080/"
        },
        "id": "JtNUiPPq0Ocy",
        "outputId": "d4b05125-ab4a-4890-df6b-77a16df5766b"
      },
      "source": [
        "X.columns"
      ],
      "execution_count": 249,
      "outputs": [
        {
          "output_type": "execute_result",
          "data": {
            "text/plain": [
              "Index(['Presupuesto_2020', 'Presupuesto_Salud_2020', 'No_Inscritos',\n",
              "       'Prop_productosCD_2021', 'Cumplimiento_A1_2020-2021-06',\n",
              "       'Cumplimiento_A2_2020-2021-06', 'PropPortafolio', 'T_adq_Recet'],\n",
              "      dtype='object')"
            ]
          },
          "metadata": {},
          "execution_count": 249
        }
      ]
    },
    {
      "cell_type": "code",
      "metadata": {
        "colab": {
          "base_uri": "https://localhost:8080/",
          "height": 326
        },
        "id": "BG4pscYiyZZz",
        "outputId": "d56d738c-7a4e-4e0f-e916-c79831289b02"
      },
      "source": [
        "# X\n",
        "\n",
        "umb_data = [[-1.194, np.NaN, np.NaN, np.NaN, np.NaN, np.NaN, np.NaN, np.NaN],\n",
        "            [+2.065, np.NaN, np.NaN, np.NaN, np.NaN, np.NaN, np.NaN, np.NaN],\n",
        "            [np.NaN, np.NaN, -0.741, np.NaN, np.NaN, np.NaN, np.NaN, np.NaN],\n",
        "            [np.NaN, np.NaN, -0.727, np.NaN, np.NaN, np.NaN, np.NaN, np.NaN],\n",
        "            [np.NaN, np.NaN, np.NaN, np.NaN, np.NaN, np.NaN, np.NaN, -0.280],\n",
        "            [np.NaN, np.NaN, np.NaN, -1.487, np.NaN, np.NaN, np.NaN, np.NaN],\n",
        "            [np.NaN, np.NaN, np.NaN, np.NaN, np.NaN, np.NaN, 0.548, np.NaN],\n",
        "            [np.NaN, np.NaN, np.NaN, np.NaN, -3.383, np.NaN, np.NaN, np.NaN],\n",
        "            [np.NaN, -0.237, np.NaN, np.NaN, np.NaN, np.NaN, np.NaN, np.NaN]]\n",
        "\n",
        "pd.DataFrame(\n",
        "    np.transpose(scaler.inverse_transform(umb_data)), \n",
        "    columns = columns\n",
        ")"
      ],
      "execution_count": 250,
      "outputs": [
        {
          "output_type": "execute_result",
          "data": {
            "text/html": [
              "<div>\n",
              "<style scoped>\n",
              "    .dataframe tbody tr th:only-of-type {\n",
              "        vertical-align: middle;\n",
              "    }\n",
              "\n",
              "    .dataframe tbody tr th {\n",
              "        vertical-align: top;\n",
              "    }\n",
              "\n",
              "    .dataframe thead th {\n",
              "        text-align: right;\n",
              "    }\n",
              "</style>\n",
              "<table border=\"1\" class=\"dataframe\">\n",
              "  <thead>\n",
              "    <tr style=\"text-align: right;\">\n",
              "      <th></th>\n",
              "      <th>Presupuesto_2020</th>\n",
              "      <th>Presupuesto_Salud_2020</th>\n",
              "      <th>No_Inscritos</th>\n",
              "      <th>Prop_productosCD_2021</th>\n",
              "      <th>Cumplimiento_A1_2020-2021-06</th>\n",
              "      <th>Cumplimiento_A2_2020-2021-06</th>\n",
              "      <th>PropPortafolio</th>\n",
              "      <th>T_adq_Recet</th>\n",
              "      <th>Departamento.1</th>\n",
              "    </tr>\n",
              "  </thead>\n",
              "  <tbody>\n",
              "    <tr>\n",
              "      <th>0</th>\n",
              "      <td>1.021243e+11</td>\n",
              "      <td>2.005818e+12</td>\n",
              "      <td>NaN</td>\n",
              "      <td>NaN</td>\n",
              "      <td>NaN</td>\n",
              "      <td>NaN</td>\n",
              "      <td>NaN</td>\n",
              "      <td>NaN</td>\n",
              "      <td>NaN</td>\n",
              "    </tr>\n",
              "    <tr>\n",
              "      <th>1</th>\n",
              "      <td>NaN</td>\n",
              "      <td>NaN</td>\n",
              "      <td>NaN</td>\n",
              "      <td>NaN</td>\n",
              "      <td>NaN</td>\n",
              "      <td>NaN</td>\n",
              "      <td>NaN</td>\n",
              "      <td>NaN</td>\n",
              "      <td>6.224525e+10</td>\n",
              "    </tr>\n",
              "    <tr>\n",
              "      <th>2</th>\n",
              "      <td>NaN</td>\n",
              "      <td>NaN</td>\n",
              "      <td>3.033913</td>\n",
              "      <td>5.986735</td>\n",
              "      <td>NaN</td>\n",
              "      <td>NaN</td>\n",
              "      <td>NaN</td>\n",
              "      <td>NaN</td>\n",
              "      <td>NaN</td>\n",
              "    </tr>\n",
              "    <tr>\n",
              "      <th>3</th>\n",
              "      <td>NaN</td>\n",
              "      <td>NaN</td>\n",
              "      <td>NaN</td>\n",
              "      <td>NaN</td>\n",
              "      <td>NaN</td>\n",
              "      <td>0.408753</td>\n",
              "      <td>NaN</td>\n",
              "      <td>NaN</td>\n",
              "      <td>NaN</td>\n",
              "    </tr>\n",
              "    <tr>\n",
              "      <th>4</th>\n",
              "      <td>NaN</td>\n",
              "      <td>NaN</td>\n",
              "      <td>NaN</td>\n",
              "      <td>NaN</td>\n",
              "      <td>NaN</td>\n",
              "      <td>NaN</td>\n",
              "      <td>NaN</td>\n",
              "      <td>0.750006</td>\n",
              "      <td>NaN</td>\n",
              "    </tr>\n",
              "    <tr>\n",
              "      <th>5</th>\n",
              "      <td>NaN</td>\n",
              "      <td>NaN</td>\n",
              "      <td>NaN</td>\n",
              "      <td>NaN</td>\n",
              "      <td>NaN</td>\n",
              "      <td>NaN</td>\n",
              "      <td>NaN</td>\n",
              "      <td>NaN</td>\n",
              "      <td>NaN</td>\n",
              "    </tr>\n",
              "    <tr>\n",
              "      <th>6</th>\n",
              "      <td>NaN</td>\n",
              "      <td>NaN</td>\n",
              "      <td>NaN</td>\n",
              "      <td>NaN</td>\n",
              "      <td>NaN</td>\n",
              "      <td>NaN</td>\n",
              "      <td>0.941173</td>\n",
              "      <td>NaN</td>\n",
              "      <td>NaN</td>\n",
              "    </tr>\n",
              "    <tr>\n",
              "      <th>7</th>\n",
              "      <td>NaN</td>\n",
              "      <td>NaN</td>\n",
              "      <td>NaN</td>\n",
              "      <td>NaN</td>\n",
              "      <td>3.001833</td>\n",
              "      <td>NaN</td>\n",
              "      <td>NaN</td>\n",
              "      <td>NaN</td>\n",
              "      <td>NaN</td>\n",
              "    </tr>\n",
              "  </tbody>\n",
              "</table>\n",
              "</div>"
            ],
            "text/plain": [
              "   Presupuesto_2020  Presupuesto_Salud_2020  ...  T_adq_Recet  Departamento.1\n",
              "0      1.021243e+11            2.005818e+12  ...          NaN             NaN\n",
              "1               NaN                     NaN  ...          NaN    6.224525e+10\n",
              "2               NaN                     NaN  ...          NaN             NaN\n",
              "3               NaN                     NaN  ...          NaN             NaN\n",
              "4               NaN                     NaN  ...     0.750006             NaN\n",
              "5               NaN                     NaN  ...          NaN             NaN\n",
              "6               NaN                     NaN  ...          NaN             NaN\n",
              "7               NaN                     NaN  ...          NaN             NaN\n",
              "\n",
              "[8 rows x 9 columns]"
            ]
          },
          "metadata": {},
          "execution_count": 250
        }
      ]
    },
    {
      "cell_type": "code",
      "metadata": {
        "id": "XYGe6lk62zc4"
      },
      "source": [
        ""
      ],
      "execution_count": 250,
      "outputs": []
    },
    {
      "cell_type": "code",
      "metadata": {
        "id": "gpVqIL0c3rbS"
      },
      "source": [
        ""
      ],
      "execution_count": 250,
      "outputs": []
    },
    {
      "cell_type": "code",
      "metadata": {
        "id": "ciM69aaB3rdK"
      },
      "source": [
        "from sklearn.decomposition import PCA"
      ],
      "execution_count": 251,
      "outputs": []
    },
    {
      "cell_type": "code",
      "metadata": {
        "colab": {
          "base_uri": "https://localhost:8080/"
        },
        "id": "6vkYG2oQ3yOU",
        "outputId": "5e5d0f90-94df-4057-b507-f2801f48c7a4"
      },
      "source": [
        "pca = PCA(random_state=2021)\n",
        "pca.fit(X_train)\n",
        "print(pca.explained_variance_ratio_)"
      ],
      "execution_count": 252,
      "outputs": [
        {
          "output_type": "stream",
          "name": "stdout",
          "text": [
            "[0.3919343  0.17741867 0.1231828  0.11761585 0.09167238 0.0736223\n",
            " 0.0168361  0.00771761]\n"
          ]
        }
      ]
    },
    {
      "cell_type": "code",
      "metadata": {
        "colab": {
          "base_uri": "https://localhost:8080/"
        },
        "id": "agzve7zv-PRF",
        "outputId": "815bd2e4-011b-4687-ce53-e7966989f66e"
      },
      "source": [
        "[i/sum(pca.explained_variance_ratio_) for i in pca.explained_variance_ratio_]"
      ],
      "execution_count": 253,
      "outputs": [
        {
          "output_type": "execute_result",
          "data": {
            "text/plain": [
              "[0.3919342961510144,\n",
              " 0.1774186681885638,\n",
              " 0.12318280005622713,\n",
              " 0.11761584619506824,\n",
              " 0.0916723817527774,\n",
              " 0.07362229548013303,\n",
              " 0.01683610289895436,\n",
              " 0.007717609277261776]"
            ]
          },
          "metadata": {},
          "execution_count": 253
        }
      ]
    },
    {
      "cell_type": "code",
      "metadata": {
        "colab": {
          "base_uri": "https://localhost:8080/"
        },
        "id": "R3skFBGC4GfE",
        "outputId": "ee155bca-b008-4cd6-a84a-59b46191f454"
      },
      "source": [
        "pca_train = pca.fit_transform(X_train)\n",
        "\n",
        "np.shape(pca_train)"
      ],
      "execution_count": 254,
      "outputs": [
        {
          "output_type": "execute_result",
          "data": {
            "text/plain": [
              "(31, 8)"
            ]
          },
          "metadata": {},
          "execution_count": 254
        }
      ]
    },
    {
      "cell_type": "code",
      "metadata": {
        "id": "uHKKqWyI4f8f"
      },
      "source": [
        "pca_train1 = pd.DataFrame(pca_train, columns=None)\n",
        "pca_train1.columns = [\"PC{}\".format(i+1) for i in range(8)]\n",
        "pca_train1['Depto1'] = X.index\n",
        "pca_train1['grupo'] = prediction"
      ],
      "execution_count": 255,
      "outputs": []
    },
    {
      "cell_type": "code",
      "metadata": {
        "id": "mF00CRdZE5IE"
      },
      "source": [
        "import pickle"
      ],
      "execution_count": 256,
      "outputs": []
    },
    {
      "cell_type": "code",
      "metadata": {
        "colab": {
          "base_uri": "https://localhost:8080/",
          "height": 442
        },
        "id": "EpA2ZJaj4S_c",
        "outputId": "c49dcb68-7b28-4889-c333-7f3934d98c7b"
      },
      "source": [
        "fig, ax = plt.subplots(1,1, figsize = (10,7))\n",
        "\n",
        "grupos = [int(i) for i in pca_train1.grupo]\n",
        "\n",
        "scatter = ax.scatter(pca_train[:, 0], pca_train[:, 1], c = grupos, \n",
        "           cmap='Paired')\n",
        "\n",
        "texts = []\n",
        "for i, label in enumerate(pca_train1['Depto1']):\n",
        "  texts.append(ax.annotate(label, (pca_train[i,0], pca_train[i,1])))\n",
        "\n",
        "adjust_text(texts, force_points=0.2, force_text=0.2,\n",
        "            expand_points=(1, 1), expand_text=(1, 1),\n",
        "            arrowprops=dict(arrowstyle=\"-\", color='black', lw=0.5))\n",
        "\n",
        "ax.set_xlabel('PC1 (39.1%)')\n",
        "ax.set_ylabel('PC2 (17.7%)')\n",
        "# ax.legend(grupos, [str(i) for i in grupos], loc = 'upper right', ncol = 2)\n",
        "\n",
        "legend1 = ax.legend(*scatter.legend_elements(),\n",
        "                    loc=\"upper right\", title=\"Grupo\", ncol = 2)\n",
        "ax.add_artist(legend1)\n",
        "\n",
        "plt.savefig('030_analisisCluster.pdf')\n",
        "pickle.dump(fig, open('030_analisisCluster.pkl', 'wb'))  \n",
        "#\n",
        "# "
      ],
      "execution_count": 257,
      "outputs": [
        {
          "output_type": "display_data",
          "data": {
            "image/png": "[encoded data removed]",
            "text/plain": [
              "<Figure size 720x504 with 1 Axes>"
            ]
          },
          "metadata": {
            "needs_background": "light"
          }
        }
      ]
    },
    {
      "cell_type": "code",
      "metadata": {
        "id": "2fVbSOQv_KKf"
      },
      "source": [
        "pca_train1.to_csv('030_analisisCluster.csv', index = False)"
      ],
      "execution_count": 261,
      "outputs": []
    },
    {
      "cell_type": "code",
      "metadata": {
        "id": "FG_mnuri_YBw"
      },
      "source": [
        ""
      ],
      "execution_count": null,
      "outputs": []
    }
  ]
}